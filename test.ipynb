{
 "cells": [
  {
   "cell_type": "code",
   "execution_count": 19,
   "metadata": {},
   "outputs": [
    {
     "data": {
      "text/plain": [
       "[['India'],\n",
       " ['bus 28', 'West 28th', 'has 28', '28'],\n",
       " ['visits capital',\n",
       "  'with its capital',\n",
       "  'read its capital',\n",
       "  'did its capital',\n",
       "  'visits Capitol']]"
      ]
     },
     "execution_count": 19,
     "metadata": {},
     "output_type": "execute_result"
    }
   ],
   "source": [
    "d = {'alternative': [{'transcript': 'India', 'confidence': 0.98762906}], 'final': True}\n",
    "lists_l = []\n",
    "lis_l = [v['transcript'] for v in d['alternative']]\n",
    "lists_l.append(lis_l)\n",
    "d = {'alternative': [{'transcript': 'bus 28', 'confidence': 0.71729064}, {'transcript': 'West 28th'}, {'transcript': 'has 28'}, {'transcript': '28'}], 'final': True}\n",
    "lis_l = [v['transcript'] for v in d['alternative']]\n",
    "lists_l.append(lis_l)\n",
    "d = {'alternative': [{'transcript': 'visits capital', 'confidence': 0.6409986}, {'transcript': 'with its capital'}, {'transcript': 'read its capital'}, {'transcript': 'did its capital'}, {'transcript': 'visits Capitol'}], 'final': True}\n",
    "lis_l = [v['transcript'] for v in d['alternative']]\n",
    "lists_l.append(lis_l)\n",
    "lists_l"
   ]
  },
  {
   "cell_type": "code",
   "execution_count": null,
   "metadata": {},
   "outputs": [],
   "source": [
    "list_w = ['India', 'has', '28', 'states', 'with', 'its', 'capital', 'New', 'Delhi', 'which', 'is', 'located', 'in', 'the', 'north', 'of', 'India']"
   ]
  },
  {
   "cell_type": "code",
   "execution_count": 21,
   "metadata": {},
   "outputs": [],
   "source": [
    "times = [0, 674, 1027, 1723, 1940, 2250, 2977, 3143, 3453, 3642, 3878, 4013, 4661, 4880, 5105, 6505, 7086, 7319, 7477, 7786, 8523, 8758, 8920, 9327]\n",
    "hallazgo = {'0': ['India'], '674': ['bus 28', 'West 28th', 'has 28', '28'], '1940': ['visits capital', 'with its capital', 'read its capital', 'did its capital', 'visits Capitol'], '4661': ['New Delhi', 'at New Delhi', 'New Deli'], '6505': ['just looking', 'richest looking', 'which is looking', \"witch's looking\", 'Duchess looking'], '7319': ['in the North'], '8523': []}\n",
    "lista = ['India', 'has', '28', 'states', 'with', 'its', 'capital', 'New', 'Delhi', 'which', 'is', 'located', 'in', 'the', 'north', 'of', 'India']"
   ]
  },
  {
   "cell_type": "code",
   "execution_count": 61,
   "metadata": {},
   "outputs": [
    {
     "name": "stdout",
     "output_type": "stream",
     "text": [
      "tres - has 28 - k bus 28 - time 674 j || 1\n",
      "tres - has 28 - k West 28th - time 674 j || 1\n",
      "tres - states with - k visits capital - time 1940 j || 3\n",
      "tres - states with its - k with its capital - time 1940 j || 3\n",
      "tres - states with its - k read its capital - time 1940 j || 3\n",
      "tres - states with its - k did its capital - time 1940 j || 3\n",
      "tres - states with - k visits Capitol - time 1940 j || 3\n",
      "tres - states with - k New Delhi - time 4661 j || 3\n",
      "tres - states with its - k at New Delhi - time 4661 j || 3\n",
      "tres - states with - k New Deli - time 4661 j || 3\n",
      "tres - states with - k just looking - time 6505 j || 3\n",
      "tres - states with - k richest looking - time 6505 j || 3\n",
      "tres - states with its - k which is looking - time 6505 j || 3\n",
      "tres - states with - k witch's looking - time 6505 j || 3\n",
      "tres - states with - k Duchess looking - time 6505 j || 3\n",
      "tres - states with its - k in the North - time 7319 j || 3\n",
      "{'0': 'India', '674': 'has 28'}\n"
     ]
    }
   ],
   "source": [
    "results = {}\n",
    "j = 0\n",
    "for i in times:\n",
    "    if str(i) in hallazgo.keys():\n",
    "        enc = True\n",
    "        while(enc):\n",
    "            for k in hallazgo[str(i)]:\n",
    "\n",
    "                list_sp = k.split()\n",
    "                lon_list = len(list_sp)\n",
    "                list_temp = \" \".join(lista[j:j+lon_list])\n",
    "                if list_temp == k:\n",
    "                    j = j+lon_list\n",
    "                    if not str(i) in results.keys():\n",
    "                        results[str(i)] = k\n",
    "                    enc = False\n",
    "                print(f\"tres - {list_temp} - k {k} - time {str(i)} j || {str(j)}\")\n",
    "\n",
    "print(results)\n",
    "\n"
   ]
  },
  {
   "cell_type": "code",
   "execution_count": 1,
   "metadata": {},
   "outputs": [],
   "source": [
    "info = {'streams': [{'index': 0, 'codec_name': 'pcm_s16le', 'codec_long_name': 'PCM signed 16-bit little-endian', 'codec_type': 'audio', 'codec_time_base': '1/48000', 'codec_tag_string': '[1][0][0][0]', 'codec_tag': '0x0001', 'sample_fmt': 's16', 'sample_rate': '48000', 'channels': 1, 'bits_per_sample': 16, 'r_frame_rate': '0/0', 'avg_frame_rate': '0/0', 'time_base': '1/48000', 'duration_ts': 386880, 'duration': '8.060000', 'bit_rate': '768000', 'disposition': {'default': 0, 'dub': 0, 'original': 0, 'comment': 0, 'lyrics': 0, 'karaoke': 0, 'forced': 0, 'hearing_impaired': 0, 'visual_impaired': 0, 'clean_effects': 0, 'attached_pic': 0, 'timed_thumbnails': 0}, 'bits_per_raw_sample': 16}], 'format': {'filename': 'chunk0.wav', 'nb_streams': 1, 'nb_programs': 0, 'format_name': 'wav', 'format_long_name': 'WAV / WAVE (Waveform Audio)', 'duration': '8.060000', 'size': '773804', 'bit_rate': '768043', 'probe_score': 99}}"
   ]
  },
  {
   "cell_type": "code",
   "execution_count": 5,
   "metadata": {},
   "outputs": [
    {
     "ename": "TypeError",
     "evalue": "list indices must be integers or slices, not str",
     "output_type": "error",
     "traceback": [
      "\u001b[0;31m---------------------------------------------------------------------------\u001b[0m",
      "\u001b[0;31mTypeError\u001b[0m                                 Traceback (most recent call last)",
      "\u001b[1;32m/mnt/proyectos/transcribe_mp3/transcribe_mp3/test.ipynb Cell 6'\u001b[0m in \u001b[0;36m<cell line: 1>\u001b[0;34m()\u001b[0m\n\u001b[0;32m----> <a href='vscode-notebook-cell:/mnt/proyectos/transcribe_mp3/transcribe_mp3/test.ipynb#ch0000005?line=0'>1</a>\u001b[0m \u001b[39mprint\u001b[39m(info[\u001b[39m'\u001b[39;49m\u001b[39mstreams\u001b[39;49m\u001b[39m'\u001b[39;49m][\u001b[39m'\u001b[39;49m\u001b[39mduration\u001b[39;49m\u001b[39m'\u001b[39;49m])\n",
      "\u001b[0;31mTypeError\u001b[0m: list indices must be integers or slices, not str"
     ]
    }
   ],
   "source": [
    "print(info['streams'])"
   ]
  }
 ],
 "metadata": {
  "interpreter": {
   "hash": "68a8172d4aa5579adbe380794a83f2a1c91116d9a2c3f3a2b46755e6fe808dea"
  },
  "kernelspec": {
   "display_name": "Python 3.8.10 ('transcribeapp': venv)",
   "language": "python",
   "name": "python3"
  },
  "language_info": {
   "codemirror_mode": {
    "name": "ipython",
    "version": 3
   },
   "file_extension": ".py",
   "mimetype": "text/x-python",
   "name": "python",
   "nbconvert_exporter": "python",
   "pygments_lexer": "ipython3",
   "version": "3.8.10"
  },
  "orig_nbformat": 4
 },
 "nbformat": 4,
 "nbformat_minor": 2
}
